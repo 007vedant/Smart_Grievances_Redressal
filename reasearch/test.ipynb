{
 "cells": [
  {
   "cell_type": "code",
   "execution_count": null,
   "metadata": {},
   "outputs": [],
   "source": [
    "import datapreprocessing as preprocessor\n",
    "import TextRank4Keyword as textranker\n",
    "import numpy as np\n",
    "import importlib\n",
    "importlib.reload(preprocessor)"
   ]
  },
  {
   "cell_type": "code",
   "execution_count": null,
   "metadata": {},
   "outputs": [],
   "source": [
    "tweets=(preprocessor.getTrainSet())"
   ]
  },
  {
   "cell_type": "code",
   "execution_count": null,
   "metadata": {},
   "outputs": [],
   "source": [
    "preprocessor.preprocess()"
   ]
  },
  {
   "cell_type": "code",
   "execution_count": null,
   "metadata": {},
   "outputs": [],
   "source": [
    "tr=textranker.TextRank4Keyword()\n",
    "tweets=(preprocessor.getTrainSet())['tidy_tweet']\n",
    "tweetString = ' '.join(tweets)\n",
    "tr.analyze(tweetString, candidate_pos = ['NOUN', 'PROPN','VERB'], window_size=4, lower=False)\n",
    "tr.get_keywords(50)"
   ]
  },
  {
   "cell_type": "code",
   "execution_count": null,
   "metadata": {},
   "outputs": [],
   "source": [
    "tweetslist=tweets['tweet']\n",
    "freq={}\n",
    "for tweet in tweetslist:\n",
    "    keywords=tweet.split()\n",
    "    for keyword in keywords:\n",
    "        if(keyword in freq):\n",
    "            freq[keyword]+=1\n",
    "        else:\n",
    "            freq[keyword]=1\n",
    "sorted(freq.items(), key=lambda item: item[1],reverse=True)"
   ]
  },
  {
   "cell_type": "code",
   "execution_count": null,
   "metadata": {},
   "outputs": [],
   "source": []
  }
 ],
 "metadata": {
  "kernelspec": {
   "display_name": "Python [conda env:root] *",
   "language": "python",
   "name": "conda-root-py"
  },
  "language_info": {
   "codemirror_mode": {
    "name": "ipython",
    "version": 3
   },
   "file_extension": ".py",
   "mimetype": "text/x-python",
   "name": "python",
   "nbconvert_exporter": "python",
   "pygments_lexer": "ipython3",
   "version": "3.7.4"
  }
 },
 "nbformat": 4,
 "nbformat_minor": 2
}
